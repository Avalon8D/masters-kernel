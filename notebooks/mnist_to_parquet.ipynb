{
 "cells": [
  {
   "cell_type": "code",
   "execution_count": null,
   "metadata": {
    "ExecuteTime": {
     "end_time": "2019-04-06T00:15:14.867224Z",
     "start_time": "2019-04-06T00:14:37.591832Z"
    }
   },
   "outputs": [],
   "source": [
    "import pickle, gzip, numpy, urllib.request, json\n",
    "\n",
    "# Load the dataset\n",
    "urllib.request.urlretrieve(\"http://deeplearning.net/data/mnist/mnist.pkl.gz\", \"mnist.pkl.gz\")\n",
    "with gzip.open('mnist.pkl.gz', 'rb') as f:\n",
    "    train_set, valid_set, test_set = pickle.load(f, encoding='latin1')\n",
    "\n",
    "import pandas as pd\n",
    "\n",
    "df_digits = pd.DataFrame ()\n",
    "\n",
    "for name, labels, digits in zip (\n",
    "    ('train', 'test', 'valid'),\n",
    "    (train_set[1], valid_set[1], test_set[1]),\n",
    "    (train_set[0][:], valid_set[0][:], test_set[0][:])\n",
    "):\n",
    "    {'labels': labels, 'dataset': name, 'features': digits}\n",
    "    df_digits = df_digits.append (\n",
    "        pd.DataFrame(\n",
    "            ((name, label, digit) for label, digit in zip (labels, digits)),\n",
    "            columns=['name', 'label', 'features']\n",
    "        )\n",
    "    )\n",
    "\n",
    "!mkdir ../data",
    "df_digits.to_parquet ('../data/digits.snappy.parquet', index=False)"
   ]
  },
  {
   "cell_type": "code",
   "execution_count": null,
   "metadata": {
    "ExecuteTime": {
     "end_time": "2019-04-03T20:44:47.584410Z",
     "start_time": "2019-04-03T20:44:41.187736Z"
    }
   },
   "outputs": [],
   "source": [
    "!hadoop fs -rm hdfs://thesis-tiny-python3-anaconda-m/user/pedro.schmidt/digits.snappy.parquet\n",
    "!hadoop fs -put ../data/digits.snappy.parquet hdfs://thesis-tiny-python3-anaconda-m/user/pedro.schmidt/digits.snappy.parquet"
   ]
  },
  {
   "cell_type": "code",
   "execution_count": null,
   "metadata": {},
   "outputs": [],
   "source": [
    "!wget -P ../data 'https://archive.ics.uci.edu/ml/machine-learning-databases/00279/SUSY.csv.gz'\n",
    "!hadoop fs -rm hdfs://thesis-tiny-python3-anaconda-m/user/pedro.schmidt/SUSY.csv.gz\n",
    "!hadoop fs -put ../data/SUSY.csv.gz hdfs://thesis-tiny-python3-anaconda-m/user/pedro.schmidt/SUSY.csv.gz"
   ]
  },
  {
   "cell_type": "code",
   "execution_count": null,
   "metadata": {},
   "outputs": [],
   "source": [
    "!wget -P ../data 'https://archive.ics.uci.edu/ml/machine-learning-databases/00280/HIGGS.csv.gz'\n",
    "!hadoop fs -rm hdfs://thesis-tiny-python3-anaconda-m/user/pedro.schmidt/HIGGS.csv.gz\n",
    "!hadoop fs -put ../data/HIGGS.csv.gz hdfs://thesis-tiny-python3-anaconda-m/user/pedro.schmidt/HIGGS.csv.gz"
   ]
  }
 ],
 "metadata": {
  "hide_input": false,
  "kernelspec": {
   "display_name": "Python 3",
   "language": "python",
   "name": "python3"
  },
  "language_info": {
   "codemirror_mode": {
    "name": "ipython",
    "version": 3
   },
   "file_extension": ".py",
   "mimetype": "text/x-python",
   "name": "python",
   "nbconvert_exporter": "python",
   "pygments_lexer": "ipython3",
   "version": "3.6.8"
  },
  "varInspector": {
   "cols": {
    "lenName": 16,
    "lenType": 16,
    "lenVar": 40
   },
   "kernels_config": {
    "python": {
     "delete_cmd_postfix": "",
     "delete_cmd_prefix": "del ",
     "library": "var_list.py",
     "varRefreshCmd": "print(var_dic_list())"
    },
    "r": {
     "delete_cmd_postfix": ") ",
     "delete_cmd_prefix": "rm(",
     "library": "var_list.r",
     "varRefreshCmd": "cat(var_dic_list()) "
    }
   },
   "types_to_exclude": [
    "module",
    "function",
    "builtin_function_or_method",
    "instance",
    "_Feature"
   ],
   "window_display": false
  }
 },
 "nbformat": 4,
 "nbformat_minor": 2
}
